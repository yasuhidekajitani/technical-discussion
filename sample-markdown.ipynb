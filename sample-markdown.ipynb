{
 "cells": [
  {
   "cell_type": "code",
   "execution_count": 1,
   "id": "7d103807",
   "metadata": {},
   "outputs": [
    {
     "name": "stdout",
     "output_type": "stream",
     "text": [
      "hello world\n"
     ]
    }
   ],
   "source": [
    "print(\"hello world\")"
   ]
  },
  {
   "cell_type": "markdown",
   "id": "cb447f10",
   "metadata": {},
   "source": [
    "### This is a practice to create markdown in Jupyter notebook\n",
    "** We need to consider how chatbots are changing the internet \n",
    "\n",
    "A few topics...\n",
    "* France and Britain are in thrall to pensioners\n",
    "* Stop talking about wealth taxes - make these reforms instead\n",
    "* AI hit squad set up to drive Whitehall efficiency struggles to hire top talent\n"
   ]
  }
 ],
 "metadata": {
  "kernelspec": {
   "display_name": "Python 3 (ipykernel)",
   "language": "python",
   "name": "python3"
  },
  "language_info": {
   "codemirror_mode": {
    "name": "ipython",
    "version": 3
   },
   "file_extension": ".py",
   "mimetype": "text/x-python",
   "name": "python",
   "nbconvert_exporter": "python",
   "pygments_lexer": "ipython3",
   "version": "3.11.7"
  }
 },
 "nbformat": 4,
 "nbformat_minor": 5
}
